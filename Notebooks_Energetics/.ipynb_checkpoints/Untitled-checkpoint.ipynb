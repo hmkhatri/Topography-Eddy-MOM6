{
 "cells": [
  {
   "cell_type": "markdown",
   "metadata": {},
   "source": [
    "$\\Large \\text{Energetics in Layered Model}$\n",
    "\n",
    "This notebook contains the code for computing energy conversion terms in energy equations of the mean flow and eddies (derivation is in Barthel et. al 2017, JPO). "
   ]
  },
  {
   "cell_type": "code",
   "execution_count": null,
   "metadata": {},
   "outputs": [],
   "source": [
    "import numpy as np\n",
    "import xarray as xr\n",
    "import matplotlib.pyplot as plt\n",
    "import matplotlib.cm as cm\n",
    "import dask\n",
    "import dask.distributed\n",
    "from xgcm import Grid\n",
    "%matplotlib inline\n",
    "\n",
    "from dask.distributed import Client\n",
    "from dask.distributed import LocalCluster\n",
    "cluster = LocalCluster()\n",
    "client = Client(cluster)\n",
    "client"
   ]
  },
  {
   "cell_type": "code",
   "execution_count": null,
   "metadata": {},
   "outputs": [],
   "source": [
    "# read prog.nc files for all runs (for 20-40 years simulation time)\n",
    "tau = ['Tau_001', 'Tau_003', 'Tau_005', 'Tau_01', 'Tau_03', 'Tau_05', 'Tau_1']\n",
    "ppdir = \"/work/Hemant.Khatri/MOM6_idealised/SWM_Two_Layer/Barotropic_Baroclinic/\"\n",
    "\n",
    "dataset_FW = []\n",
    "dataset_VW = []\n",
    "\n",
    "for i in range(0, len(tau)):\n",
    "    d = xr.open_dataset(ppdir+\"2L_fplane_Fix_Width/\"+tau[i]+\"/prog_40.nc\", chunks={'Time': 10}) # specifying chunks is required\n",
    "    dataset_FW.append(d)\n",
    "    d = xr.open_dataset(ppdir+\"2L_fplane_Var_Width/\"+tau[i]+\"/prog_40.nc\", chunks={'Time': 10}) # for parallel computations\n",
    "    if(i != 3):\n",
    "        d = d.drop('taux_bot')\n",
    "    dataset_VW.append(d)\n",
    "    \n",
    "ds_FW1 = xr.concat(dataset_FW, dim='tau')\n",
    "ds_VW1 = xr.concat(dataset_VW, dim='tau')"
   ]
  }
 ],
 "metadata": {
  "kernelspec": {
   "display_name": "Python 3",
   "language": "python",
   "name": "python3"
  },
  "language_info": {
   "codemirror_mode": {
    "name": "ipython",
    "version": 3
   },
   "file_extension": ".py",
   "mimetype": "text/x-python",
   "name": "python",
   "nbconvert_exporter": "python",
   "pygments_lexer": "ipython3",
   "version": "3.7.4"
  }
 },
 "nbformat": 4,
 "nbformat_minor": 2
}
