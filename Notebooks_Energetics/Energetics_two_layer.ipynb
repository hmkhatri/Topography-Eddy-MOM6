{
 "cells": [
  {
   "cell_type": "markdown",
   "metadata": {},
   "source": [
    "This notebook is computing kinetic energy budget simulations for 2-layer terms and save the time-averaged fields in a single netcdf file for further analysis."
   ]
  },
  {
   "cell_type": "code",
   "execution_count": 1,
   "metadata": {},
   "outputs": [
    {
     "data": {
      "text/html": [
       "<table style=\"border: 2px solid white;\">\n",
       "<tr>\n",
       "<td style=\"vertical-align: top; border: 0px solid white\">\n",
       "<h3 style=\"text-align: left;\">Client</h3>\n",
       "<ul style=\"text-align: left; list-style: none; margin: 0; padding: 0;\">\n",
       "  <li><b>Scheduler: </b>tcp://127.0.0.1:36155</li>\n",
       "  <li><b>Dashboard: </b><a href='http://127.0.0.1:8787/status' target='_blank'>http://127.0.0.1:8787/status</a></li>\n",
       "</ul>\n",
       "</td>\n",
       "<td style=\"vertical-align: top; border: 0px solid white\">\n",
       "<h3 style=\"text-align: left;\">Cluster</h3>\n",
       "<ul style=\"text-align: left; list-style:none; margin: 0; padding: 0;\">\n",
       "  <li><b>Workers: </b>4</li>\n",
       "  <li><b>Cores: </b>16</li>\n",
       "  <li><b>Memory: </b>406.01 GB</li>\n",
       "</ul>\n",
       "</td>\n",
       "</tr>\n",
       "</table>"
      ],
      "text/plain": [
       "<Client: 'tcp://127.0.0.1:36155' processes=4 threads=16, memory=406.01 GB>"
      ]
     },
     "execution_count": 1,
     "metadata": {},
     "output_type": "execute_result"
    }
   ],
   "source": [
    "import numpy as np\n",
    "import xarray as xr\n",
    "import matplotlib.pyplot as plt\n",
    "import matplotlib.cm as cm\n",
    "import dask\n",
    "import dask.distributed\n",
    "from xgcm import Grid\n",
    "%matplotlib inline\n",
    "\n",
    "from dask.distributed import Client\n",
    "from dask.distributed import LocalCluster\n",
    "cluster = LocalCluster()\n",
    "client = Client(cluster)\n",
    "client"
   ]
  },
  {
   "cell_type": "code",
   "execution_count": 33,
   "metadata": {},
   "outputs": [
    {
     "name": "stderr",
     "output_type": "stream",
     "text": [
      "/home/Hemant.Khatri/anaconda3/envs/analysis/lib/python3.7/site-packages/xarray/coding/times.py:427: SerializationWarning: Unable to decode time axis into full numpy.datetime64 objects, continuing using cftime.datetime objects instead, reason: dates out of range\n",
      "  dtype = _decode_cf_datetime_dtype(data, units, calendar, self.use_cftime)\n"
     ]
    },
    {
     "name": "stdout",
     "output_type": "stream",
     "text": [
      "<xarray.Dataset>\n",
      "Dimensions:     (Time: 365, nv: 2, tau: 7, xh: 400, xq: 400, yh: 800, yq: 800, zl: 2)\n",
      "Coordinates:\n",
      "  * xq          (xq) float64 4.0 8.0 12.0 16.0 ... 1.592e+03 1.596e+03 1.6e+03\n",
      "  * yh          (yh) float64 -1.598e+03 -1.594e+03 ... 1.594e+03 1.598e+03\n",
      "  * zl          (zl) float64 1.027e+03 1.028e+03\n",
      "  * Time        (Time) object 0040-12-27 00:00:00 ... 0050-12-15 00:00:00\n",
      "  * nv          (nv) float64 1.0 2.0\n",
      "  * xh          (xh) float64 2.0 6.0 10.0 14.0 ... 1.59e+03 1.594e+03 1.598e+03\n",
      "  * yq          (yq) float64 -1.596e+03 -1.592e+03 ... 1.596e+03 1.6e+03\n",
      "Dimensions without coordinates: tau\n",
      "Data variables:\n",
      "    u           (tau, Time, zl, yh, xq) float32 dask.array<chunksize=(1, 10, 2, 800, 400), meta=np.ndarray>\n",
      "    v           (tau, Time, zl, yq, xh) float32 dask.array<chunksize=(1, 10, 2, 800, 400), meta=np.ndarray>\n",
      "    h           (tau, Time, zl, yh, xh) float32 dask.array<chunksize=(1, 10, 2, 800, 400), meta=np.ndarray>\n",
      "    uh          (tau, Time, zl, yh, xq) float32 dask.array<chunksize=(1, 10, 2, 800, 400), meta=np.ndarray>\n",
      "    vh          (tau, Time, zl, yq, xh) float32 dask.array<chunksize=(1, 10, 2, 800, 400), meta=np.ndarray>\n",
      "    taux_bot    (tau, Time, yh, xq) float32 dask.array<chunksize=(1, 10, 800, 400), meta=np.ndarray>\n",
      "    tauy_bot    (tau, Time, yq, xh) float32 dask.array<chunksize=(1, 10, 800, 400), meta=np.ndarray>\n",
      "    average_T1  (tau, Time) object dask.array<chunksize=(1, 10), meta=np.ndarray>\n",
      "    average_T2  (tau, Time) object dask.array<chunksize=(1, 10), meta=np.ndarray>\n",
      "    average_DT  (tau, Time) timedelta64[ns] dask.array<chunksize=(1, 10), meta=np.ndarray>\n",
      "    Time_bnds   (tau, Time, nv) timedelta64[ns] dask.array<chunksize=(1, 10, 2), meta=np.ndarray>\n",
      "    taux        (tau, yh, xq) float64 0.0 0.0 0.0 0.0 0.0 ... 0.0 0.0 0.0 0.0\n",
      "Attributes:\n",
      "    filename:   prog_avg.nc\n",
      "    title:      Channel\n",
      "    grid_type:  regular\n",
      "    grid_tile:  N/A\n"
     ]
    }
   ],
   "source": [
    "# read prog.nc files for all runs (for 40-50 years simulation time)\n",
    "\n",
    "tau = ['Tau_001', 'Tau_003', 'Tau_005', 'Tau_01', 'Tau_03', 'Tau_05', 'Tau_1']\n",
    "ta = ['1.0', '3.0', '5.0', '10.0', '30.0', '50.0', '100.0']\n",
    "\n",
    "ppdir = \"/work/Hemant.Khatri/MOM6_idealised/SWM_Two_Layer/Barotropic_Baroclinic/\"\n",
    "\n",
    "ppdir_tau = \"/nbhome/Hemant.Khatri/Topography-Eddy-MOM6/input-files/\"\n",
    "\n",
    "#case = \"2L_fplane_Fix_Width\"; case_tau = \"wind_stress_FW_tau_\"\n",
    "#case = \"2L_fplane_Var_Width\"; case_tau = \"wind_stress_VW_tau_\"\n",
    "#case = \"2L_Fix_Width\"; case_tau = \"wind_stress_FW_tau_\"\n",
    "case = \"2L_Var_Width\"; case_tau = \"wind_stress_VW_tau_\"\n",
    "\n",
    "dataset_ds = []\n",
    "\n",
    "for i in range(0, len(tau)):\n",
    "    d = xr.open_dataset(ppdir+case+\"/\"+tau[i]+\"/prog_avg_50.nc\", chunks={'Time': 10})\n",
    "    d1 = xr.open_dataset(ppdir_tau+\"wind_stress_FW_tau_\" + ta[i] + \".nc\")\n",
    "    d['taux'] = xr.DataArray(d1['taux'].values,dims=['yh','xq'])\n",
    "    # specifying chunks is required for parallel computations\n",
    "    dataset_ds.append(d)\n",
    "\n",
    "ds = xr.concat(dataset_ds, dim='tau')\n",
    "\n",
    "if (case==\"2L_fplane_Var_Width\"):\n",
    "    ds = ds.isel(Time=slice(100,365)) # fplane var width runs inilized using fix width f plane restart files\n",
    "\n",
    "print(ds)"
   ]
  },
  {
   "cell_type": "code",
   "execution_count": 34,
   "metadata": {},
   "outputs": [
    {
     "data": {
      "text/plain": [
       "<xgcm.Grid>\n",
       "X Axis (periodic, boundary=None):\n",
       "  * center   xh --> right\n",
       "  * right    xq --> center\n",
       "Y Axis (not periodic, boundary=None):\n",
       "  * center   yh --> right\n",
       "  * right    yq --> center"
      ]
     },
     "execution_count": 34,
     "metadata": {},
     "output_type": "execute_result"
    }
   ],
   "source": [
    "ppdir = \"/nbhome/Hemant.Khatri/Topography-Eddy-MOM6/input-files/\" \n",
    "topo = xr.open_dataset(ppdir+\"topography_2L.nc\")\n",
    "ds['depth'] = xr.DataArray(topo['depth'].values,dims=['yh','xh'])\n",
    "\n",
    "# Grid define for computations \n",
    "grid = Grid(ds, coords={'X': {'center': 'xh', 'right': 'xq'},\n",
    "                        'Y': {'center': 'yh', 'right': 'yq'}}, periodic=['X']);\n",
    "grid"
   ]
  },
  {
   "cell_type": "markdown",
   "metadata": {},
   "source": [
    "$\\Large \\text{Eddy-mean decomposition}$"
   ]
  },
  {
   "cell_type": "code",
   "execution_count": 35,
   "metadata": {},
   "outputs": [],
   "source": [
    "# Compute meand and eddy components \n",
    "\n",
    "# Reynolds Decomposition\n",
    "um_Rey = ds['u'].mean('Time') \n",
    "vm_Rey = ds['v'].mean('Time')\n",
    "hm_Rey = ds['h'].mean('Time')\n",
    "\n",
    "ue_Rey = ds['u'] - um_Rey \n",
    "ve_Rey = ds['v'] - vm_Rey\n",
    "he_Rey = ds['h'] - hm_Rey\n",
    "\n",
    "# Thickness-weighted Decomposition\n",
    "dx, dy = (4000., 4000.)\n",
    "\n",
    "hmu = grid.interp(hm_Rey, 'X', boundary='fill') # Interpolate mean on u, v points\n",
    "hmv = grid.interp(hm_Rey, 'Y', boundary='fill') # use 'fill' to put zeros on boundaries\n",
    "\n",
    "um_TW = ds['uh'].mean('Time') / (hmu * dy)\n",
    "vm_TW = ds['vh'].mean('Time') / (hmv * dx)\n",
    "\n",
    "ue_TW = ds['u'] - um_TW\n",
    "ve_TW = ds['v'] - vm_TW\n",
    "\n",
    "# montgomery potentials for eddy and mean flow\n",
    "H1, H2 = (1000., 3000.)\n",
    "g = 9.81\n",
    "rho = (H1*ds['zl'].values[0] + H2*ds['zl'].values[1])/(H1+H2)\n",
    "gp = g * (ds['zl'].values[1] - ds['zl'].values[0])/rho\n",
    "\n",
    "phi1 =  g * rho * (ds['h'].sum('zl') - ds['depth'])\n",
    "phi2 = phi1 + gp * rho * (ds['h'].isel(zl=1) - ds['depth'] + H1)\n",
    "\n",
    "phi = xr.concat([phi1, phi2], ds.zl.values)\n",
    "phi = phi.drop('zl')\n",
    "phi = phi.rename({'concat_dim': 'zl'})\n",
    "phi = phi.transpose('tau','Time','zl','yh','xh')"
   ]
  },
  {
   "cell_type": "code",
   "execution_count": 36,
   "metadata": {},
   "outputs": [],
   "source": [
    "# Compute mean and eddy kinetic energies\n",
    "\n",
    "MKE_u = 0.5 * rho * hmu * um_TW * um_TW\n",
    "MKE_v = 0.5 * rho * hmv * vm_TW * vm_TW\n",
    "\n",
    "hu = grid.interp(ds['h'], 'X', boundary='fill')\n",
    "hv = grid.interp(ds['h'], 'Y', boundary='fill')\n",
    "\n",
    "EKE_u = 0.5 * rho * (hu * ue_TW * ue_TW).mean('Time')\n",
    "EKE_v = 0.5 * rho * (hv * ve_TW * ve_TW).mean('Time')"
   ]
  },
  {
   "cell_type": "markdown",
   "metadata": {},
   "source": [
    "$\\Large \\text{Kinetic energy budget terms}$"
   ]
  },
  {
   "cell_type": "code",
   "execution_count": 37,
   "metadata": {},
   "outputs": [],
   "source": [
    "dx, dy = (4000., 4000.)\n",
    "\n",
    "# del.(u MKE) and del.(u EKE) terms\n",
    "tmp1 = - grid.diff(um_TW * MKE_u, 'X', boundary='fill') / dx\n",
    "tmp2 = - grid.diff(vm_TW * MKE_v, 'Y', boundary='fill') / dy\n",
    "\n",
    "MKE_bdt1 = tmp1 + tmp2\n",
    "\n",
    "tmp1 = - grid.diff(um_TW * EKE_u + (ue_TW * EKE_u).mean('Time'), 'X', boundary='fill') / dx\n",
    "tmp2 = - grid.diff(vm_TW * EKE_v + (ve_TW * EKE_v).mean('Time'), 'Y', boundary='fill') / dy\n",
    "\n",
    "EKE_bdt1 = tmp1 + tmp2\n",
    "\n",
    "# Reynolds stress term \n",
    "\n",
    "tmp1 = (grid.diff((hu * ue_TW * ue_TW), 'X', boundary='fill') / dx) * (grid.interp(um_TW, 'X', boundary='fill'))\n",
    "\n",
    "tp = ds['h'] * grid.interp(ue_TW, 'X', boundary='fill') * grid.interp(ve_TW, 'Y', boundary='fill') \n",
    "\n",
    "tmp2 = (grid.interp(grid.diff(tp, 'Y', boundary='fill') / dy, 'Y', boundary='fill') *\n",
    "        grid.interp(um_TW, 'X', boundary='fill'))\n",
    "\n",
    "tmp3 = (grid.interp(grid.diff(tp, 'X', boundary='fill') / dx, 'X', boundary='fill') *\n",
    "        grid.interp(vm_TW, 'Y', boundary='fill'))\n",
    "\n",
    "tmp4 = (grid.diff((hv * ve_TW * ve_TW), 'Y', boundary='fill') / dy) * (grid.interp(vm_TW, 'Y', boundary='fill'))\n",
    "\n",
    "EKE_bdt3 = rho * (tmp1 + tmp2 + tmp3 + tmp4).mean('Time')\n",
    "\n",
    "MKE_bdt3 = - EKE_bdt3\n",
    "\n",
    "# form stress term\n",
    "\n",
    "phi_m = phi.mean('Time')\n",
    "phi_e = phi - phi_m\n",
    "\n",
    "tmp1 = hm_Rey * grid.interp( um_TW * grid.diff(phi_m, 'X', boundary='fill') / dx, 'X', boundary='fill')\n",
    "tmp2 = hm_Rey * grid.interp( vm_TW * grid.diff(phi_m, 'Y', boundary='fill') / dy, 'Y', boundary='fill')\n",
    "\n",
    "tp = grid.interp(he_Rey, 'X', boundary='fill') * grid.diff(phi_e, 'X', boundary='fill') / dx\n",
    "tmp3 = grid.interp( um_TW * tp.mean('Time'),  'X', boundary='fill')\n",
    "\n",
    "tp = grid.interp(he_Rey, 'Y', boundary='fill') * grid.diff(phi_e, 'Y', boundary='fill') / dy\n",
    "tmp4 = grid.interp( vm_TW * tp.mean('Time'),  'Y', boundary='fill')\n",
    "\n",
    "MKE_bdt2 = - (tmp1 + tmp2 + tmp3 + tmp4)\n",
    "\n",
    "tmp1 = grid.interp(ue_TW * hu * grid.diff(phi_e, 'X', boundary='fill') / dx, 'X', boundary='fill')\n",
    "tmp2 = grid.interp( ve_TW * hv * grid.diff(phi_e, 'Y', boundary='fill') / dy, 'Y', boundary='fill')\n",
    "\n",
    "EKE_bdt2 = - (tmp1 + tmp2).mean('Time')\n",
    "\n",
    "# Forcing and friction terms\n",
    "\n",
    "tmp1 = grid.interp(ds['taux'] * um_TW.isel(zl=0), 'X', boundary='fill')\n",
    "\n",
    "tmp2 = - (grid.interp(ds['taux_bot'].mean('Time') * um_TW.isel(zl=1), 'X', boundary='fill') + \n",
    "        grid.interp(ds['tauy_bot'].mean('Time') * vm_TW.isel(zl=1), 'Y', boundary='fill'))\n",
    "\n",
    "MKE_bdt4 = xr.concat([tmp1, tmp2], ds.zl.values)\n",
    "MKE_bdt4 = MKE_bdt4.rename({'concat_dim': 'zl'})\n",
    "MKE_bdt4 = MKE_bdt4.transpose('tau','zl','yh','xh')\n",
    "\n",
    "tmp1 = grid.interp(ds['taux'] * ue_TW.isel(zl=0).mean('Time'), 'X', boundary='fill')\n",
    "\n",
    "tmp2 = - (grid.interp((ds['taux_bot'] * ue_TW.isel(zl=1)).mean('Time'), 'X', boundary='fill') + \n",
    "        grid.interp((ds['tauy_bot'] * ve_TW.isel(zl=1)).mean('Time'), 'Y', boundary='fill'))\n",
    "\n",
    "EKE_bdt4 = xr.concat([tmp1, tmp2], ds.zl.values)\n",
    "EKE_bdt4 = EKE_bdt4.rename({'concat_dim': 'zl'})\n",
    "EKE_bdt4 = EKE_bdt4.transpose('tau','zl','yh','xh')"
   ]
  },
  {
   "cell_type": "code",
   "execution_count": 38,
   "metadata": {},
   "outputs": [
    {
     "name": "stdout",
     "output_type": "stream",
     "text": [
      "<xarray.Dataset>\n",
      "Dimensions:   (tau: 7, xh: 400, xq: 400, yh: 800, zl: 2)\n",
      "Coordinates:\n",
      "  * zl        (zl) float64 1.027e+03 1.028e+03\n",
      "  * yh        (yh) float64 -1.598e+03 -1.594e+03 ... 1.594e+03 1.598e+03\n",
      "  * xh        (xh) float64 2.0 6.0 10.0 14.0 ... 1.59e+03 1.594e+03 1.598e+03\n",
      "  * xq        (xq) float64 4.0 8.0 12.0 16.0 ... 1.592e+03 1.596e+03 1.6e+03\n",
      "Dimensions without coordinates: tau\n",
      "Data variables:\n",
      "    MKE_bdt1  (tau, zl, yh, xh) float32 4.5286807e-08 4.7585758e-08 ... nan nan\n",
      "    EKE_bdt1  (tau, zl, yh, xh) float32 2.9482326e-08 3.126526e-08 ... nan nan\n",
      "    MKE_bdt2  (tau, zl, yh, xh) float64 -0.0001055 -4.949e-05 ... nan nan\n",
      "    EKE_bdt2  (tau, zl, yh, xh) float64 -4.217e-06 4.067e-06 ... nan nan\n",
      "    MKE_bdt3  (tau, zl, yh, xh) float32 3.998614e-08 4.236616e-08 ... nan nan\n",
      "    EKE_bdt3  (tau, zl, yh, xh) float32 -3.998614e-08 -4.236616e-08 ... nan nan\n",
      "    MKE_bdt4  (tau, zl, yh, xh) float64 -0.0 -0.0 -0.0 -0.0 ... nan nan nan nan\n",
      "    EKE_bdt4  (tau, zl, yh, xh) float64 0.0 0.0 -0.0 -0.0 ... nan nan nan nan\n",
      "    depth     (yh, xh) float64 4e+03 4e+03 4e+03 4e+03 ... 4e+03 4e+03 4e+03\n",
      "    taux      (tau, yh, xq) float64 0.0 0.0 0.0 0.0 0.0 ... 0.0 0.0 0.0 0.0 0.0\n"
     ]
    }
   ],
   "source": [
    "ds_save = xr.Dataset()\n",
    "\n",
    "ds_save['MKE_bdt1'] = MKE_bdt1.load()\n",
    "ds_save['MKE_bdt1'].attrs['standard_name'] = \"MKE - Divergence of u*KE\"\n",
    "ds_save['MKE_bdt1'].attrs['units'] = \"J/m^2\"\n",
    "\n",
    "ds_save['EKE_bdt1'] = EKE_bdt1.load()\n",
    "ds_save['EKE_bdt1'].attrs['standard_name'] = \"EKE - Divergence of u*KE\"\n",
    "ds_save['EKE_bdt1'].attrs['units'] = \"J/m^2\"\n",
    "\n",
    "ds_save['MKE_bdt2'] = MKE_bdt2.load()\n",
    "ds_save['MKE_bdt2'].attrs['standard_name'] = \"MKE - Reynolds stress term\"\n",
    "ds_save['MKE_bdt2'].attrs['units'] = \"J/m^2\"\n",
    "\n",
    "ds_save['EKE_bdt2'] = EKE_bdt2.load()\n",
    "ds_save['EKE_bdt2'].attrs['standard_name'] = \"EKE - Reynolds stress term\"\n",
    "ds_save['EKE_bdt2'].attrs['units'] = \"J/m^2\"\n",
    "\n",
    "ds_save['MKE_bdt3'] = MKE_bdt3.load()\n",
    "ds_save['MKE_bdt3'].attrs['standard_name'] = \"MKE - Form stress term\"\n",
    "ds_save['MKE_bdt3'].attrs['units'] = \"J/m^2\"\n",
    "\n",
    "ds_save['EKE_bdt3'] = EKE_bdt3.load()\n",
    "ds_save['EKE_bdt3'].attrs['standard_name'] = \"EKE - Form stress term\"\n",
    "ds_save['EKE_bdt3'].attrs['units'] = \"J/m^2\"\n",
    "\n",
    "ds_save['MKE_bdt4'] = MKE_bdt4.load()\n",
    "ds_save['MKE_bdt4'].attrs['standard_name'] = \"MKE - Forcing and friction\"\n",
    "ds_save['MKE_bdt4'].attrs['units'] = \"J/m^2\"\n",
    "\n",
    "ds_save['EKE_bdt4'] = EKE_bdt4.load()\n",
    "ds_save['EKE_bdt4'].attrs['standard_name'] = \"EKE - Forcing and friction\"\n",
    "ds_save['EKE_bdt4'].attrs['units'] = \"J/m^2\"\n",
    "\n",
    "ds_save['depth'] = ds['depth']\n",
    "ds_save['depth'].attrs['standard_name'] = \"Ocean Depth\"\n",
    "ds_save['depth'].attrs['units'] = \"m\"\n",
    "\n",
    "ds_save['taux'] = ds['taux']\n",
    "ds_save['taux'].attrs['standard_name'] = \"Zonal wind stress\"\n",
    "ds_save['taux'].attrs['units'] = \"N/m^2\"\n",
    "\n",
    "print(ds_save)"
   ]
  },
  {
   "cell_type": "code",
   "execution_count": 39,
   "metadata": {},
   "outputs": [],
   "source": [
    "# Save Data\n",
    "\n",
    "save_path = \"/work/Hemant.Khatri/MOM6_idealised/SWM_Two_Layer/Barotropic_Baroclinic/Postprocessing/Energetics/\"\n",
    "\n",
    "ds_save.load().to_netcdf(save_path + case +'.nc')"
   ]
  },
  {
   "cell_type": "code",
   "execution_count": 40,
   "metadata": {},
   "outputs": [],
   "source": [
    "ds.close()\n",
    "ds_save.close()\n",
    "client.close()\n",
    "cluster.close()"
   ]
  },
  {
   "cell_type": "code",
   "execution_count": null,
   "metadata": {},
   "outputs": [],
   "source": []
  }
 ],
 "metadata": {
  "kernelspec": {
   "display_name": "Python 3",
   "language": "python",
   "name": "python3"
  },
  "language_info": {
   "codemirror_mode": {
    "name": "ipython",
    "version": 3
   },
   "file_extension": ".py",
   "mimetype": "text/x-python",
   "name": "python",
   "nbconvert_exporter": "python",
   "pygments_lexer": "ipython3",
   "version": "3.7.9"
  }
 },
 "nbformat": 4,
 "nbformat_minor": 4
}
